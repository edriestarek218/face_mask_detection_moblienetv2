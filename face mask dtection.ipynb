{
 "cells": [
  {
   "cell_type": "markdown",
   "metadata": {},
   "source": [
    "<h1>Idris Tarek Elsayed Awad<h1>\n",
    "<h2>The Spark Foundation<h2>\n",
    "<h3>Task_4:Face Mask detection<h3>"
   ]
  },
  {
   "cell_type": "code",
   "execution_count": 1,
   "metadata": {},
   "outputs": [],
   "source": [
    "from tensorflow.keras.preprocessing.image import ImageDataGenerator #used for Generate more data\n",
    "from tensorflow.keras.applications import MobileNetV2  #use to detect mask\n",
    "from tensorflow.keras.layers import AveragePooling2D  #using in CNN\n",
    "from tensorflow.keras.layers import Dropout #CNN used to drop not accurate data\n",
    "from tensorflow.keras.layers import Flatten #used to convert array into one row arry\n",
    "from tensorflow.keras.layers import Dense  #used hidden layer in CNN\n",
    "from tensorflow.keras.layers import Input  #used for input\n",
    "from tensorflow.keras.models import Model  #used for model \n",
    "from tensorflow.keras.optimizers import Adam  #used as optimizer\n",
    "from tensorflow.keras.applications.mobilenet_v2 import preprocess_input #used to make the format in rage (-1,1)\n",
    "from tensorflow.keras.preprocessing.image import img_to_array #\n",
    "from tensorflow.keras.preprocessing.image import load_img #used for loading data\n",
    "from tensorflow.keras.utils import to_categorical  #used to covert vector to matrix\n",
    "from sklearn.preprocessing import LabelBinarizer #used for Encoding data (labeling )\n",
    "from sklearn.model_selection import train_test_split\n",
    "from sklearn.metrics import classification_report\n",
    "from imutils import paths\n",
    "import matplotlib.pyplot as plt\n",
    "import numpy as np\n",
    "import argparse\n",
    "import os"
   ]
  },
  {
   "cell_type": "code",
   "execution_count": 11,
   "metadata": {},
   "outputs": [
    {
     "name": "stdout",
     "output_type": "stream",
     "text": [
      "Loading images !!!!!!!!!!\n"
     ]
    },
    {
     "name": "stderr",
     "output_type": "stream",
     "text": [
      "c:\\Users\\edrie\\AppData\\Local\\Programs\\Python\\Python310\\lib\\site-packages\\PIL\\Image.py:959: UserWarning: Palette images with Transparency expressed in bytes should be converted to RGBA images\n",
      "  warnings.warn(\n"
     ]
    }
   ],
   "source": [
    "#making global vrible \n",
    "l_rate=1e-4 #.00001\n",
    "epoch=20\n",
    "bs=32\n",
    "dir=r'./data/'\n",
    "classification=['with_mask','without_mask']\n",
    "print(\"Loading images !!!!!!!!!!\")\n",
    "data=[]\n",
    "labels=[]\n",
    "for clas in classification:\n",
    "    path=os.path.join(dir,clas)\n",
    "    for img in os.listdir(path):\n",
    "        image_path=os.path.join(path,img)\n",
    "        image=load_img(image_path,target_size=(224,224))\n",
    "        image=img_to_array(image)\n",
    "        image=preprocess_input(image)\n",
    "        data.append(image)\n",
    "        labels.append(clas)\n",
    "lb = LabelBinarizer()\n",
    "labels = lb.fit_transform(labels)\n",
    "labels = to_categorical(labels)\n",
    "\n",
    "data = np.array(data, dtype=\"float32\")\n",
    "labels = np.array(labels)\n"
   ]
  },
  {
   "cell_type": "code",
   "execution_count": 12,
   "metadata": {},
   "outputs": [
    {
     "name": "stdout",
     "output_type": "stream",
     "text": [
      "2000\n",
      "[[1. 0.]\n",
      " [1. 0.]\n",
      " [1. 0.]\n",
      " [1. 0.]\n",
      " [1. 0.]]\n",
      "[[0. 1.]\n",
      " [0. 1.]\n",
      " [0. 1.]\n",
      " [0. 1.]\n",
      " [0. 1.]]\n"
     ]
    }
   ],
   "source": [
    "\n",
    "print(len(labels))\n",
    "print(labels[0:5])\n",
    "print(labels[-5:])"
   ]
  },
  {
   "cell_type": "code",
   "execution_count": 13,
   "metadata": {},
   "outputs": [],
   "source": [
    "(trainX, testX, trainY, testY) = train_test_split(data, labels,\n",
    "\ttest_size=0.20, stratify=labels, random_state=42)"
   ]
  },
  {
   "cell_type": "code",
   "execution_count": 14,
   "metadata": {},
   "outputs": [],
   "source": [
    "aug = ImageDataGenerator(\n",
    "\trotation_range=20,\n",
    "\tzoom_range=0.15,\n",
    "\twidth_shift_range=0.2,\n",
    "\theight_shift_range=0.2,\n",
    "\tshear_range=0.15,\n",
    "\thorizontal_flip=True,\n",
    "\tfill_mode=\"nearest\")"
   ]
  },
  {
   "cell_type": "code",
   "execution_count": 15,
   "metadata": {},
   "outputs": [
    {
     "name": "stdout",
     "output_type": "stream",
     "text": [
      "WARNING:tensorflow:`input_shape` is undefined or non-square, or `rows` is not in [96, 128, 160, 192, 224]. Weights for input shape (224, 224) will be loaded as the default.\n"
     ]
    },
    {
     "name": "stderr",
     "output_type": "stream",
     "text": [
      "WARNING:tensorflow:`input_shape` is undefined or non-square, or `rows` is not in [96, 128, 160, 192, 224]. Weights for input shape (224, 224) will be loaded as the default.\n"
     ]
    }
   ],
   "source": [
    "baseModel = MobileNetV2(weights=\"imagenet\", include_top=False,\n",
    "\tinput_tensor=Input(shape=(224, 224, 3)))\n",
    "\n",
    "\n"
   ]
  },
  {
   "cell_type": "code",
   "execution_count": 16,
   "metadata": {},
   "outputs": [],
   "source": [
    "headModel = baseModel.output\n",
    "headModel = AveragePooling2D(pool_size=(7, 7))(headModel)\n",
    "headModel = Flatten(name=\"flatten\")(headModel)\n",
    "headModel = Dense(128, activation=\"relu\")(headModel)\n",
    "headModel = Dropout(0.5)(headModel)\n",
    "headModel = Dense(2, activation=\"softmax\")(headModel)\n",
    "\n",
    "\n",
    "model = Model(inputs=baseModel.input, outputs=headModel)"
   ]
  },
  {
   "cell_type": "code",
   "execution_count": 20,
   "metadata": {},
   "outputs": [
    {
     "name": "stderr",
     "output_type": "stream",
     "text": [
      "WARNING:absl:`lr` is deprecated in Keras optimizer, please use `learning_rate` or use the legacy optimizer, e.g.,tf.keras.optimizers.legacy.Adam.\n"
     ]
    },
    {
     "name": "stdout",
     "output_type": "stream",
     "text": [
      "[INFO] compiling model...\n",
      "[INFO] training head...\n",
      "Epoch 1/8\n",
      "50/50 [==============================] - 17s 290ms/step - loss: 0.0518 - accuracy: 0.9850 - val_loss: 0.0404 - val_accuracy: 0.9825\n",
      "Epoch 2/8\n",
      "50/50 [==============================] - 14s 277ms/step - loss: 0.0701 - accuracy: 0.9825 - val_loss: 0.0283 - val_accuracy: 0.9950\n",
      "Epoch 3/8\n",
      "50/50 [==============================] - 13s 271ms/step - loss: 0.0657 - accuracy: 0.9775 - val_loss: 0.0407 - val_accuracy: 0.9825\n",
      "Epoch 4/8\n",
      "50/50 [==============================] - 16s 315ms/step - loss: 0.0421 - accuracy: 0.9825 - val_loss: 0.0576 - val_accuracy: 0.9825\n",
      "Epoch 5/8\n",
      "50/50 [==============================] - 14s 284ms/step - loss: 0.0271 - accuracy: 0.9875 - val_loss: 0.0315 - val_accuracy: 0.9875\n",
      "Epoch 6/8\n",
      "50/50 [==============================] - 15s 292ms/step - loss: 0.0367 - accuracy: 0.9900 - val_loss: 0.0999 - val_accuracy: 0.9700\n",
      "Epoch 7/8\n",
      "50/50 [==============================] - 14s 284ms/step - loss: 0.0368 - accuracy: 0.9875 - val_loss: 0.0256 - val_accuracy: 0.9875\n",
      "Epoch 8/8\n",
      "50/50 [==============================] - 15s 297ms/step - loss: 0.0302 - accuracy: 0.9900 - val_loss: 0.0223 - val_accuracy: 0.9900\n"
     ]
    }
   ],
   "source": [
    "for layer in baseModel.layers:\n",
    "\tlayer.trainable = False\n",
    "\n",
    "# compile our model\n",
    "print(\"[INFO] compiling model...\")\n",
    "opt = Adam(lr=l_rate)\n",
    "model.compile(loss=\"binary_crossentropy\", optimizer=opt,\n",
    "\tmetrics=[\"accuracy\"])\n",
    "\n",
    "# train the head of the network\n",
    "print(\"[INFO] training head...\")\n",
    "H = model.fit(\n",
    "\taug.flow(trainX, trainY, batch_size=8),\n",
    "\tsteps_per_epoch=len(trainX) // 32,\n",
    "\tvalidation_data=(testX, testY),\n",
    "\tvalidation_steps=len(testX) // 32,\n",
    "\tepochs=8)\n"
   ]
  },
  {
   "cell_type": "code",
   "execution_count": 21,
   "metadata": {},
   "outputs": [
    {
     "name": "stdout",
     "output_type": "stream",
     "text": [
      "[INFO] evaluating network...\n",
      "13/13 [==============================] - 6s 424ms/step\n",
      "              precision    recall  f1-score   support\n",
      "\n",
      "   with_mask       0.98      1.00      0.99       200\n",
      "without_mask       1.00      0.98      0.99       200\n",
      "\n",
      "    accuracy                           0.99       400\n",
      "   macro avg       0.99      0.99      0.99       400\n",
      "weighted avg       0.99      0.99      0.99       400\n",
      "\n",
      "[INFO] saving mask detector model...\n"
     ]
    }
   ],
   "source": [
    "print(\"[INFO] evaluating network...\")\n",
    "predIdxs = model.predict(testX, batch_size=32)\n",
    "\n",
    "# for each image in the testing set we need to find the index of the\n",
    "# label with corresponding largest predicted probability\n",
    "predIdxs = np.argmax(predIdxs, axis=1)\n",
    "\n",
    "# show a nicely formatted classification report\n",
    "print(classification_report(testY.argmax(axis=1), predIdxs,\n",
    "\ttarget_names=lb.classes_))\n",
    "\n",
    "# serialize the model to disk\n",
    "print(\"[INFO] saving mask detector model...\")\n",
    "model.save(\"mask_detector.model\", save_format=\"h5\")"
   ]
  },
  {
   "cell_type": "code",
   "execution_count": 25,
   "metadata": {},
   "outputs": [
    {
     "data": {
      "image/png": "[encoded data removed]",
      "text/plain": [
       "<Figure size 432x288 with 1 Axes>"
      ]
     },
     "metadata": {},
     "output_type": "display_data"
    }
   ],
   "source": [
    "E=epoch\n",
    "plt.style.use(\"ggplot\")\n",
    "plt.figure()\n",
    "plt.plot(np.arange(0, 8), H.history[\"loss\"], label=\"train_loss\")\n",
    "plt.plot(np.arange(0, 8), H.history[\"val_loss\"], label=\"val_loss\")\n",
    "plt.plot(np.arange(0, 8), H.history[\"accuracy\"], label=\"train_acc\")\n",
    "plt.plot(np.arange(0, 8), H.history[\"val_accuracy\"], label=\"val_acc\")\n",
    "plt.title(\"Training Loss and Accuracy\")\n",
    "plt.xlabel(\"Epoch #\")\n",
    "plt.ylabel(\"Loss/Accuracy\")\n",
    "plt.legend(loc=\"lower left\")\n",
    "plt.savefig(\"plot.png\")"
   ]
  }
 ],
 "metadata": {
  "kernelspec": {
   "display_name": "Python 3",
   "language": "python",
   "name": "python3"
  },
  "language_info": {
   "codemirror_mode": {
    "name": "ipython",
    "version": 3
   },
   "file_extension": ".py",
   "mimetype": "text/x-python",
   "name": "python",
   "nbconvert_exporter": "python",
   "pygments_lexer": "ipython3",
   "version": "3.10.5"
  },
  "orig_nbformat": 4
 },
 "nbformat": 4,
 "nbformat_minor": 2
}
